{
 "cells": [
  {
   "cell_type": "markdown",
   "metadata": {
    "id": "Ul7nnCo2xmAb"
   },
   "source": [
    "Assignment part 3"
   ]
  },
  {
   "cell_type": "code",
   "execution_count": 1,
   "metadata": {
    "id": "AgqTl1rdy4Pr"
   },
   "outputs": [],
   "source": [
    "import numpy as np\n",
    "import pandas as pd\n",
    "import nltk\n",
    "from sklearn.model_selection import KFold\n",
    "import seaborn as sn\n",
    "from sklearn.metrics import accuracy_score,confusion_matrix\n",
    "import tensorflow as tf\n",
    "from sklearn.metrics.pairwise import cosine_similarity\n",
    "import matplotlib.pyplot as plt"
   ]
  },
  {
   "cell_type": "code",
   "execution_count": 2,
   "metadata": {},
   "outputs": [],
   "source": [
    "# !pip install tensorflow"
   ]
  },
  {
   "cell_type": "markdown",
   "metadata": {
    "id": "MCICQEtkY9u0"
   },
   "source": [
    "# New Section"
   ]
  },
  {
   "cell_type": "code",
   "execution_count": 3,
   "metadata": {
    "colab": {
     "base_uri": "https://localhost:8080/"
    },
    "id": "0gnakIBszC3H",
    "outputId": "ff40a8bf-f72c-476a-95fa-b83c67df28eb"
   },
   "outputs": [
    {
     "name": "stderr",
     "output_type": "stream",
     "text": [
      "[nltk_data] Downloading package brown to\n",
      "[nltk_data]     C:\\Users\\cheta\\AppData\\Roaming\\nltk_data...\n",
      "[nltk_data]   Package brown is already up-to-date!\n",
      "[nltk_data] Downloading package universal_tagset to\n",
      "[nltk_data]     C:\\Users\\cheta\\AppData\\Roaming\\nltk_data...\n",
      "[nltk_data]   Package universal_tagset is already up-to-date!\n"
     ]
    },
    {
     "data": {
      "text/plain": [
       "True"
      ]
     },
     "execution_count": 3,
     "metadata": {},
     "output_type": "execute_result"
    }
   ],
   "source": [
    "nltk.download('brown')\n",
    "nltk.download('universal_tagset')"
   ]
  },
  {
   "cell_type": "markdown",
   "metadata": {
    "id": "ZdEfwL2xZQk4"
   },
   "source": []
  },
  {
   "cell_type": "code",
   "execution_count": 4,
   "metadata": {
    "colab": {
     "base_uri": "https://localhost:8080/"
    },
    "id": "mNroQZjszIU7",
    "outputId": "3192dd9e-61e3-42c4-b85f-cd293a70c118"
   },
   "outputs": [
    {
     "name": "stdout",
     "output_type": "stream",
     "text": [
      "[('The', 'DET'), ('jury', 'NOUN'), ('further', 'ADV'), ('said', 'VERB'), ('in', 'ADP'), ('term-end', 'NOUN'), ('presentments', 'NOUN'), ('that', 'ADP'), ('the', 'DET'), ('City', 'NOUN'), ('Executive', 'ADJ'), ('Committee', 'NOUN'), (',', '.'), ('which', 'DET'), ('had', 'VERB'), ('over-all', 'ADJ'), ('charge', 'NOUN'), ('of', 'ADP'), ('the', 'DET'), ('election', 'NOUN'), (',', '.'), ('``', '.'), ('deserves', 'VERB'), ('the', 'DET'), ('praise', 'NOUN'), ('and', 'CONJ'), ('thanks', 'NOUN'), ('of', 'ADP'), ('the', 'DET'), ('City', 'NOUN'), ('of', 'ADP'), ('Atlanta', 'NOUN'), (\"''\", '.'), ('for', 'ADP'), ('the', 'DET'), ('manner', 'NOUN'), ('in', 'ADP'), ('which', 'DET'), ('the', 'DET'), ('election', 'NOUN'), ('was', 'VERB'), ('conducted', 'VERB'), ('.', '.')]\n"
     ]
    }
   ],
   "source": [
    "tagged_sentences = nltk.corpus.brown.tagged_sents(tagset='universal')\n",
    "print(tagged_sentences[1])"
   ]
  },
  {
   "cell_type": "code",
   "execution_count": 5,
   "metadata": {
    "id": "pKTAfrKxz9_U"
   },
   "outputs": [],
   "source": [
    "X_sentence = []\n",
    "Y_sentence = []\n",
    "\n",
    "for sentence in tagged_sentences:\n",
    "  X_sen = []\n",
    "  Y_sen = []\n",
    "  for i in sentence:\n",
    "    X_sen.append(i[0])\n",
    "    Y_sen.append(i[1])\n",
    "\n",
    "  X_sentence.append(X_sen)\n",
    "  Y_sentence.append(Y_sen)\n",
    "\n",
    "num_words = len(set([word.lower() for sentence in X_sentence for word in sentence]))\n",
    "tag_list = set([word for sentence in Y_sentence for word in sentence])\n",
    "num_tags = len(tag_list)"
   ]
  },
  {
   "cell_type": "code",
   "execution_count": 6,
   "metadata": {
    "id": "2_ZAQl940Knj"
   },
   "outputs": [],
   "source": [
    "# print(tag_list,num_tags)\n",
    "# print(num_words,num_tags)\n",
    "# print(X[0])\n",
    "# print(Y[0])"
   ]
  },
  {
   "cell_type": "code",
   "execution_count": 7,
   "metadata": {
    "id": "dtVtiqjn1rvM"
   },
   "outputs": [],
   "source": [
    "# print(len(X[0]))"
   ]
  },
  {
   "cell_type": "code",
   "execution_count": 8,
   "metadata": {
    "id": "ExfI_jAe1ywY"
   },
   "outputs": [],
   "source": [
    "# print(X_sentence[0:5])"
   ]
  },
  {
   "cell_type": "code",
   "execution_count": null,
   "metadata": {
    "id": "IH3_xohx2upn"
   },
   "outputs": [],
   "source": []
  },
  {
   "cell_type": "markdown",
   "metadata": {
    "id": "2fheEqV42yDa"
   },
   "source": [
    "**Word Encoding into numbers**"
   ]
  },
  {
   "cell_type": "code",
   "execution_count": 9,
   "metadata": {
    "id": "pefWxwQB2O0w"
   },
   "outputs": [],
   "source": [
    "word_tokenizer = tf.keras.preprocessing.text.Tokenizer()\n",
    "word_tokenizer.fit_on_texts(X_sentence) \n",
    "X_encoded = word_tokenizer.texts_to_sequences(X_sentence)\n",
    "\n",
    "tag_tokenizer = tf.keras.preprocessing.text.Tokenizer()\n",
    "tag_tokenizer.fit_on_texts(Y_sentence)\n",
    "Y_encoded = tag_tokenizer.texts_to_sequences(Y_sentence)\n"
   ]
  },
  {
   "cell_type": "code",
   "execution_count": 10,
   "metadata": {
    "colab": {
     "base_uri": "https://localhost:8080/"
    },
    "id": "YyfK_6b53Dhe",
    "outputId": "9e68739a-d9d3-43ff-9b22-ea6215daa7f9"
   },
   "outputs": [
    {
     "name": "stdout",
     "output_type": "stream",
     "text": [
      "[1, 1634, 439, 62, 8, 27806, 27807, 9, 1, 238, 2028, 602, 2, 37, 27, 3107, 861, 4, 1, 1401, 2, 14, 5685, 1, 5434, 5, 2954, 4, 1, 238, 4, 3108, 15, 13, 1, 850, 8, 37, 1, 1401, 11, 2029, 3]\n",
      "[5, 1, 1, 6, 1, 2, 1, 5, 1, 4, 1, 6, 1, 1, 2, 3, 5, 1, 3, 4, 5, 1, 2, 1, 3]\n"
     ]
    }
   ],
   "source": [
    "print(X_encoded[1])\n",
    "print(Y_encoded[0])"
   ]
  },
  {
   "cell_type": "code",
   "execution_count": 11,
   "metadata": {
    "id": "1pwY9U9u3km4"
   },
   "outputs": [],
   "source": [
    "# maxe = 0\n",
    "# ind = 0\n",
    "# for x in X_encoded:\n",
    "#   maxe = max(maxe,len(x))\n",
    "# print(maxe)"
   ]
  },
  {
   "cell_type": "code",
   "execution_count": 12,
   "metadata": {
    "id": "5E544PB54Y5I"
   },
   "outputs": [],
   "source": [
    "MAX_SENTENCE_LENGTH = 180\n",
    "def padding_sentence(X_encoded,Y_encoded):\n",
    "  X_padded = tf.keras.preprocessing.sequence.pad_sequences(X_encoded, maxlen=MAX_SENTENCE_LENGTH, padding=\"pre\", truncating=\"post\")\n",
    "  Y_padded = tf.keras.preprocessing.sequence.pad_sequences(Y_encoded,maxlen=MAX_SENTENCE_LENGTH,padding=\"pre\",truncating=\"post\")\n",
    "  Y_padded = tf.keras.utils.to_categorical(Y_padded)\n",
    "  return X_padded,Y_padded"
   ]
  },
  {
   "cell_type": "code",
   "execution_count": 13,
   "metadata": {
    "id": "OYMPiMrU6IVI"
   },
   "outputs": [],
   "source": [
    "# t1,t2 = padding_sentence(X_encoded,Y_encoded)\n",
    "# print(len(Y_encoded[342]))\n",
    "# print(Y_sentence[342])\n",
    "# # print(key_tag_map)\n",
    "# print(t2[342][144:180])\n",
    "# print(len(X_padded[0]))\n",
    "# print(len(word_tokenizer.word_index))"
   ]
  },
  {
   "cell_type": "code",
   "execution_count": 14,
   "metadata": {
    "colab": {
     "base_uri": "https://localhost:8080/",
     "height": 345
    },
    "id": "C8n9mVCOGZb7",
    "outputId": "44e2f8f6-0431-472c-85ce-59394c586dc1"
   },
   "outputs": [],
   "source": [
    "import gensim.downloader as api\n",
    "\n",
    "#online loading from api\n",
    "from gensim.models import KeyedVectors\n",
    "path = \"./GoogleNews-vectors-negative300.bin\"\n",
    "word2vec = KeyedVectors.load_word2vec_format(path, binary=True)\n",
    "\n",
    "#local loading\n",
    "# word2vec = api.load('word2vec-google-news-300')"
   ]
  },
  {
   "cell_type": "code",
   "execution_count": 15,
   "metadata": {
    "id": "Ya_KivO6Gl-y"
   },
   "outputs": [],
   "source": [
    "EMBEDDING_SIZE = 300\n",
    "VOCABULARY_SIZE = len(word_tokenizer.word_index)+1\n",
    "embedding_weights = np.zeros((VOCABULARY_SIZE,EMBEDDING_SIZE))\n",
    "word2vec_id = word_tokenizer.word_index\n",
    "for word,index in word2vec_id.items():\n",
    "  try:\n",
    "    embedding_weights[index,:] = word2vec[word]\n",
    "  except KeyError:\n",
    "    pass"
   ]
  },
  {
   "cell_type": "code",
   "execution_count": 16,
   "metadata": {
    "id": "330-XFunIFjJ"
   },
   "outputs": [],
   "source": [
    "# print(word_tokenizer.word_index.items())"
   ]
  },
  {
   "cell_type": "code",
   "execution_count": 17,
   "metadata": {
    "id": "3ZcgZ-CwKI2J"
   },
   "outputs": [],
   "source": [
    "# print(Y[0:10])\n",
    "# from keras.utils import to_categorical\n",
    "# X = X_padded\n",
    "# Y = tf.keras.utils.to_categorical(Y_padded)\n",
    "NUM_CLASSES = 13"
   ]
  },
  {
   "cell_type": "code",
   "execution_count": 18,
   "metadata": {
    "id": "WoTxiWN9LQc7"
   },
   "outputs": [],
   "source": [
    "def getmodel():\n",
    "  model = tf.keras.Sequential()\n",
    "  model.add(tf.keras.layers.Embedding(input_dim = VOCABULARY_SIZE, \n",
    "  output_dim = EMBEDDING_SIZE, \n",
    "  input_length = MAX_SENTENCE_LENGTH,\n",
    "  weights=[embedding_weights], \n",
    "  trainable = True\n",
    "  ))\n",
    "  model.add(tf.keras.layers.Dense(128,activation='relu'))\n",
    "  model.add(tf.keras.layers.Dense(64,activation='relu'))\n",
    "  model.add(tf.keras.layers.Dense(NUM_CLASSES,activation='softmax'))\n",
    "  model.compile(loss      =  'categorical_crossentropy',\n",
    "                  optimizer =  'adam',\n",
    "                  metrics   =  ['accuracy'])\n",
    "  return model"
   ]
  },
  {
   "cell_type": "code",
   "execution_count": 19,
   "metadata": {
    "id": "qBbU0v3vqPTo"
   },
   "outputs": [],
   "source": [
    "def unknown_word_handle(words):\n",
    "  known_sentence = []\n",
    "#   c=0\n",
    "  for sentence in words:\n",
    "#     if c%50==0:\n",
    "#       print(c)\n",
    "    new_sentence=[]\n",
    "    for word in sentence:\n",
    "      if word in flat_X_sentence:\n",
    "        new_sentence.append(word)\n",
    "      else:\n",
    "        if word in word2vec:\n",
    "          my_vec = word2vec[word]\n",
    "          max_value=-200\n",
    "          sim_word='X'\n",
    "          for wrd,vec in X_word_vectors.items():\n",
    "            cos_value=cosine_similarity(my_vec.reshape(1,my_vec.shape[0]),vec.reshape(1,vec.shape[0]))\n",
    "            if(max_value<cos_value):\n",
    "              max_value=cos_value\n",
    "              sim_word=wrd\n",
    "          new_sentence.append(sim_word)\n",
    "        else:\n",
    "          new_sentence.append('de')\n",
    "    known_sentence.append(new_sentence)\n",
    "  return known_sentence"
   ]
  },
  {
   "cell_type": "code",
   "execution_count": 20,
   "metadata": {},
   "outputs": [],
   "source": [
    "flat_X_sentence = set([item for sublist in X_sentence for item in sublist])\n",
    "X_word_vectors={}\n",
    "for word in flat_X_sentence:\n",
    "  if(word in word2vec):\n",
    "    X_word_vectors[word]=word2vec[word]"
   ]
  },
  {
   "cell_type": "code",
   "execution_count": 21,
   "metadata": {
    "id": "j85Y0THno-Gz"
   },
   "outputs": [],
   "source": [
    "\n",
    "def plotcm(conf):\n",
    "  tg_lst = np.array(list(tag_list))\n",
    "\n",
    "  for val,key in tag_tokenizer.word_index.items():\n",
    "    tg_lst[key-1] = val\n",
    "  precision_matrix = np.diagonal(conf/np.sum(conf,axis=0))\n",
    "  recall_matrix = np.diagonal(conf/np.sum(conf,axis=1))\n",
    "  F1_matrix = 2*precision_matrix*recall_matrix/(precision_matrix+recall_matrix)\n",
    "  print(precision_matrix)\n",
    "  print(recall_matrix)\n",
    "  print(F1_matrix)\n",
    "\n",
    "  b = tg_lst\n",
    "#   b = b[b!='$']\n",
    "  df_cm = pd.DataFrame(conf, index = [i for i in b.tolist()],columns = [i for i in b.tolist()])\n",
    "  plt.figure(figsize = (10,7))\n",
    "  sn.heatmap(df_cm/np.sum(df_cm), annot = True, cmap = plt.cm.Blues)\n",
    "  plt.show()"
   ]
  },
  {
   "cell_type": "code",
   "execution_count": 22,
   "metadata": {
    "id": "dLjIDMO7pHRX"
   },
   "outputs": [
    {
     "name": "stdout",
     "output_type": "stream",
     "text": [
      "Epoch 1/5\n",
      "359/359 [==============================] - 79s 216ms/step - loss: 0.2297 - accuracy: 0.9828\n",
      "Epoch 2/5\n",
      "359/359 [==============================] - 80s 223ms/step - loss: 0.0139 - accuracy: 0.9945\n",
      "Epoch 3/5\n",
      "359/359 [==============================] - 82s 227ms/step - loss: 0.0127 - accuracy: 0.9948\n",
      "Epoch 4/5\n",
      "359/359 [==============================] - 82s 229ms/step - loss: 0.0123 - accuracy: 0.9948\n",
      "Epoch 5/5\n",
      "359/359 [==============================] - 82s 229ms/step - loss: 0.0122 - accuracy: 0.9948\n",
      "359/359 [==============================] - 3s 7ms/step\n",
      "Accuracy of  1 0.9454625339511104\n",
      "Epoch 1/5\n",
      "359/359 [==============================] - 82s 225ms/step - loss: 0.2178 - accuracy: 0.9827\n",
      "Epoch 2/5\n",
      "359/359 [==============================] - 81s 225ms/step - loss: 0.0138 - accuracy: 0.9945\n",
      "Epoch 3/5\n",
      "359/359 [==============================] - 81s 225ms/step - loss: 0.0126 - accuracy: 0.9948\n",
      "Epoch 4/5\n",
      "359/359 [==============================] - 81s 226ms/step - loss: 0.0122 - accuracy: 0.9949\n",
      "Epoch 5/5\n",
      "359/359 [==============================] - 83s 230ms/step - loss: 0.0121 - accuracy: 0.9949\n",
      "359/359 [==============================] - 2s 7ms/step\n",
      "Accuracy of  2 0.9429349135231488\n",
      "Epoch 1/5\n",
      "359/359 [==============================] - 83s 230ms/step - loss: 0.2036 - accuracy: 0.9826\n",
      "Epoch 2/5\n",
      "359/359 [==============================] - 82s 228ms/step - loss: 0.0136 - accuracy: 0.9945\n",
      "Epoch 3/5\n",
      "359/359 [==============================] - 82s 230ms/step - loss: 0.0125 - accuracy: 0.9948\n",
      "Epoch 4/5\n",
      "359/359 [==============================] - 81s 227ms/step - loss: 0.0121 - accuracy: 0.9949\n",
      "Epoch 5/5\n",
      "359/359 [==============================] - 82s 229ms/step - loss: 0.0120 - accuracy: 0.9949\n",
      "359/359 [==============================] - 2s 7ms/step\n",
      "Accuracy of  3 0.944110082210425\n",
      "Epoch 1/5\n",
      "359/359 [==============================] - 87s 241ms/step - loss: 0.2712 - accuracy: 0.9332\n",
      "Epoch 2/5\n",
      "359/359 [==============================] - 83s 232ms/step - loss: 0.0146 - accuracy: 0.9942\n",
      "Epoch 3/5\n",
      "359/359 [==============================] - 85s 236ms/step - loss: 0.0132 - accuracy: 0.9945\n",
      "Epoch 4/5\n",
      "359/359 [==============================] - 85s 235ms/step - loss: 0.0128 - accuracy: 0.9946\n",
      "Epoch 5/5\n",
      "359/359 [==============================] - 85s 237ms/step - loss: 0.0126 - accuracy: 0.9946\n",
      "359/359 [==============================] - 3s 7ms/step\n",
      "Accuracy of  4 0.9454415382904983\n",
      "Epoch 1/5\n",
      "359/359 [==============================] - 84s 232ms/step - loss: 0.2363 - accuracy: 0.9821\n",
      "Epoch 2/5\n",
      "359/359 [==============================] - 82s 229ms/step - loss: 0.0146 - accuracy: 0.9941\n",
      "Epoch 3/5\n",
      "359/359 [==============================] - 83s 232ms/step - loss: 0.0133 - accuracy: 0.9945\n",
      "Epoch 4/5\n",
      "359/359 [==============================] - 84s 233ms/step - loss: 0.0129 - accuracy: 0.9945\n",
      "Epoch 5/5\n",
      "359/359 [==============================] - 84s 234ms/step - loss: 0.0128 - accuracy: 0.9946\n",
      "359/359 [==============================] - 3s 7ms/step\n",
      "Accuracy of  5 0.9363246780430304\n",
      "[0.93310515 0.95801152 0.99967482 0.90113624 0.98762959 0.89711824\n",
      " 0.91273459 0.99859896 0.98991005 0.71589971 0.9581884  0.57990115]\n",
      "[0.95571168 0.94410397 0.99997289 0.93789978 0.9823966  0.87791594\n",
      " 0.8543893  0.93908866 0.99520327 0.72650776 0.90748958 0.25396825]\n",
      "[0.94427313 0.9510069  0.99982383 0.91915055 0.98500615 0.88741322\n",
      " 0.88259875 0.96792997 0.9925496  0.72116473 0.93215013 0.35323633]\n"
     ]
    },
    {
     "data": {
      "image/png": "[encoded data removed]",
      "text/plain": [
       "<Figure size 720x504 with 2 Axes>"
      ]
     },
     "metadata": {
      "needs_background": "light"
     },
     "output_type": "display_data"
    }
   ],
   "source": [
    "# from scipy.linalg.special_matrices import tri\n",
    "kfold = KFold(n_splits=5, random_state=None, shuffle=False)\n",
    "# print(kfold.split(X))\n",
    "max_accuracy = 0\n",
    "accuracy = 0\n",
    "num_fold = 1\n",
    "# print(X[0])\n",
    "# print(Y[0])\n",
    "X_processed,Y_processed = padding_sentence(X_encoded,Y_encoded)\n",
    "X = np.array(X_processed)\n",
    "Y = np.array(Y_processed)\n",
    "final_confusion_matrix = np.zeros((num_tags,num_tags))\n",
    "# def train():\n",
    "for train_index,test_index in kfold.split(X,Y):\n",
    "  # print(len(train_index))\n",
    "  # print(len(test_index))\n",
    "  X_train = X[train_index]  \n",
    "  X_test = X[test_index]\n",
    "  Y_train = Y[train_index]\n",
    "  Y_test = Y[test_index]\n",
    "  model = getmodel()\n",
    "  model.fit(X_train, Y_train, batch_size=128, epochs=5,verbose=1)\n",
    "  X_test_sentence = []\n",
    "# \n",
    "#   for i in test_index:\n",
    "#     new_sentence = unknown_word_handle([X_sentence[i]])\n",
    "#     X_test_sentence+=new_sentence\n",
    "#   X_test_sentence = (unknown_word_handle(X_sentence[test_index]))\n",
    "#   X_test = word_tokenizer.texts_to_sequences(X_test_sentence)\n",
    "#   X_test = tf.keras.preprocessing.sequence.pad_sequences(X_test, maxlen=MAX_SENTENCE_LENGTH, padding=\"pre\", truncating=\"post\")\n",
    "#   X_test = np.array(X_test)\n",
    "# \n",
    "  y_pred = model.predict(X_test)\n",
    "  # print(y_pred)\n",
    "  y_true_truc = []\n",
    "  y_pred_truc = []\n",
    "#   nz=0\n",
    "  for i in range(X_test.shape[0]):\n",
    "    for j in range(X_test.shape[1]):\n",
    "      if X_test[i,j]!=0:\n",
    "        y_true_truc.append(np.where(Y_test[i,j]==1)[0][0]-1)\n",
    "        \n",
    "        ind = np.where(y_pred[i,j] == np.amax(y_pred[i,j]))[0][0]\n",
    "        # print(ind)\n",
    "        if ind==0:\n",
    "#           nz+=1\n",
    "          y_pred_truc.append(2)\n",
    "        else:\n",
    "          y_pred_truc.append(ind-1)\n",
    "#######\n",
    "#   tt=0\n",
    "#   pt=0\n",
    "#   pf=0\n",
    "#   # print(len(y_true_truc))\n",
    "#   assert np.array(y_true_truc).all()>=0 and np.array(y_true_truc).all()<=11\n",
    "#   for p,t in zip(y_true_truc,y_true_truc):\n",
    "#     if t==11:\n",
    "#       tt+=1\n",
    "#       if p == 11:\n",
    "#         pt+=1\n",
    "#       else:\n",
    "#         pf+=1\n",
    "#   print(tt,pt,pf,nz)\n",
    "#########\n",
    "#   print(len(y_pred_truc))\n",
    "#   plotcm(confusion_matrix(y_true_truc,y_pred_truc))\n",
    "  final_confusion_matrix += confusion_matrix(y_true_truc,y_pred_truc)\n",
    "  accuracy = accuracy_score(y_true_truc,y_pred_truc,normalize=True)\n",
    "  print(\"Accuracy of \",num_fold,accuracy)\n",
    "  if max_accuracy<accuracy:\n",
    "    max_accuracy = accuracy\n",
    "    final_model = model\n",
    "  num_fold += 1\n",
    "\n",
    "plotcm(final_confusion_matrix/5)"
   ]
  },
  {
   "cell_type": "code",
   "execution_count": 23,
   "metadata": {},
   "outputs": [
    {
     "name": "stdout",
     "output_type": "stream",
     "text": [
      "181 0 181\n"
     ]
    },
    {
     "name": "stderr",
     "output_type": "stream",
     "text": [
      "<>:10: SyntaxWarning: \"is\" with a literal. Did you mean \"==\"?\n",
      "<>:10: SyntaxWarning: \"is\" with a literal. Did you mean \"==\"?\n",
      "C:\\Users\\cheta\\AppData\\Local\\Temp\\ipykernel_17764\\1769689768.py:10: SyntaxWarning: \"is\" with a literal. Did you mean \"==\"?\n",
      "  if p is 11:\n"
     ]
    }
   ],
   "source": [
    "# print(X_test_sentence[0:10])\n",
    "tt=0\n",
    "pt=0\n",
    "pf=0\n",
    "# print(len(y_true_truc))\n",
    "assert np.array(y_true_truc).all()>=0 and np.array(y_true_truc).all()<=11\n",
    "for p,t in zip(y_true_truc,y_true_truc):\n",
    "    if t==11:\n",
    "        tt+=1\n",
    "        if p is 11:\n",
    "            pt+=1\n",
    "        else:\n",
    "            pf+=1\n",
    "print(tt,pt,pf)"
   ]
  },
  {
   "cell_type": "code",
   "execution_count": 24,
   "metadata": {
    "id": "8UgC-zlJEv_M"
   },
   "outputs": [
    {
     "name": "stdout",
     "output_type": "stream",
     "text": [
      "[45872 45873 45874 ... 57337 57338 57339]\n",
      "[1, 2, 3, 4, [2, 3]]\n"
     ]
    }
   ],
   "source": [
    "# print(y_pred.shape)\n",
    "# print(np.where(Y_test[15][179]==1)[0][0])\n",
    "# for val,key in tag_tokenizer.word_index.items():\n",
    "#   print(val,key)\n",
    "# print(model)\n",
    "# print(Y_test)\n",
    "print(test_index)\n",
    "# print(X_sentence[test_index])\n",
    "a = [1,2,3,4]\n",
    "b = [2,3]\n",
    "a.append(b)\n",
    "print(a)"
   ]
  },
  {
   "cell_type": "code",
   "execution_count": 25,
   "metadata": {
    "id": "mSSNKwg5XvbL"
   },
   "outputs": [],
   "source": [
    "# for i in y_pred_truc:\n",
    "#   print(i)\n",
    "#   if i>=1 and i<=12:\n",
    "#     pass\n",
    "#   else:\n",
    "#     print(i)"
   ]
  },
  {
   "cell_type": "code",
   "execution_count": 26,
   "metadata": {
    "id": "Bh-Em7I0bvZK"
   },
   "outputs": [],
   "source": [
    "# accuracy = accuracy_score(y_true_truc,y_pred_truc,normalize=True)"
   ]
  },
  {
   "cell_type": "code",
   "execution_count": 27,
   "metadata": {
    "id": "vAkwIFwRcD5L"
   },
   "outputs": [],
   "source": [
    "# print(y_true_truc[1:10])\n",
    "# print(y_pred_truc[1:10])"
   ]
  },
  {
   "cell_type": "code",
   "execution_count": 28,
   "metadata": {
    "id": "ranFt884cSdM"
   },
   "outputs": [],
   "source": [
    "# print(accuracy)\n",
    "# print(y_pred[0][170:180])\n",
    "# print(np.amax(y_pred[0][179]))\n",
    "# print(len(y_pred_truc))"
   ]
  },
  {
   "cell_type": "code",
   "execution_count": 29,
   "metadata": {
    "id": "JGEs-YJ9gboq"
   },
   "outputs": [],
   "source": [
    "# wv = keyedvectors.load_word2vec_format(path, binary=True)"
   ]
  },
  {
   "cell_type": "code",
   "execution_count": 30,
   "metadata": {
    "id": "5ZVDA6Q9y3Ui"
   },
   "outputs": [],
   "source": [
    "def predict(X,model,tag_tokenizer,word_tokenizer):\n",
    "  X = unknown_word_handle(X)\n",
    "  X_encoded = word_tokenizer.texts_to_sequences(X)\n",
    "  X_test = tf.keras.preprocessing.sequence.pad_sequences(X_encoded, maxlen=MAX_SENTENCE_LENGTH, padding=\"pre\", truncating=\"post\")\n",
    "  y_pred = model.predict(X_test)\n",
    "  # y_true_truc = []\n",
    "  # y_pred_truc = []\n",
    "  X_tagged = []\n",
    "  key_tag_map = dict()\n",
    "  y_pred = model.predict(X_test)\n",
    "  for val,key in tag_tokenizer.word_index.items():\n",
    "    key_tag_map[key] = val\n",
    "  for i in range(X_test.shape[0]):\n",
    "    X_temp_tag = []\n",
    "    for j in range(X_test.shape[1]):\n",
    "      if X_test[i,j]!=0:\n",
    "        # y_true_truc.append(np.where(Y_test[i,j]==1)[0][0])\n",
    "        ind = np.where(y_pred[i,j] == np.amax(y_pred[i,j]))[0][0]\n",
    "        # print(ind)\n",
    "        if ind==0:\n",
    "          ind = 2\n",
    "        X_temp_tag.append(key_tag_map[ind].upper())\n",
    "    X_tagged.append(X_temp_tag)\n",
    "  return X_tagged\n",
    "        \n",
    "      "
   ]
  },
  {
   "cell_type": "code",
   "execution_count": 31,
   "metadata": {
    "id": "qp05kjak6Fid"
   },
   "outputs": [],
   "source": [
    "# X_tagged = predict(X_test,final_model,tag_tokenizer)"
   ]
  },
  {
   "cell_type": "code",
   "execution_count": 32,
   "metadata": {
    "id": "fNBrOA-z6khp"
   },
   "outputs": [],
   "source": [
    "\n",
    "# print(len(X_tagged[0]))\n",
    "# print(len(Y_sentence[0]))\n",
    "# ['DET', 'NOUN', 'NOUN', 'ADJ', 'NOUN', 'VERB', 'NOUN', 'DET', 'NOUN', 'ADP', 'NOUN', 'ADJ', 'NOUN', 'NOUN', 'VERB', '.', 'DET', 'NOUN', '.', 'ADP', 'DET', 'NOUN', 'VERB', 'NOUN', '.']"
   ]
  },
  {
   "cell_type": "code",
   "execution_count": 33,
   "metadata": {
    "id": "BoiedGsHe3Aq"
   },
   "outputs": [
    {
     "name": "stdout",
     "output_type": "stream",
     "text": [
      "{1: 'noun', 2: 'verb', 3: '.', 4: 'adp', 5: 'det', 6: 'adj', 7: 'adv', 8: 'pron', 9: 'conj', 10: 'prt', 11: 'num', 12: 'x'}\n"
     ]
    }
   ],
   "source": [
    "key_tag_map = dict()\n",
    "\n",
    "for val,key in tag_tokenizer.word_index.items():\n",
    "    key_tag_map[key] = val\n",
    "print(key_tag_map)"
   ]
  },
  {
   "cell_type": "code",
   "execution_count": 34,
   "metadata": {
    "id": "isyZV64efDTz"
   },
   "outputs": [
    {
     "name": "stdout",
     "output_type": "stream",
     "text": [
      "56057 (300,)\n"
     ]
    },
    {
     "data": {
      "text/plain": [
       "'noun'"
      ]
     },
     "execution_count": 34,
     "metadata": {},
     "output_type": "execute_result"
    }
   ],
   "source": [
    "print(len(flat_X_sentence),word2vec['Chetan'].shape)\n",
    "max_value=-200\n",
    "my_vec=word2vec['noun']\n",
    "sim_word='X'\n",
    "for wrd,vec in X_word_vectors.items():\n",
    "  cos_value=cosine_similarity(my_vec.reshape(1,my_vec.shape[0]),vec.reshape(1,vec.shape[0]))\n",
    "  if(max_value<cos_value):\n",
    "    max_value=cos_value\n",
    "    sim_word=wrd\n",
    "sim_word"
   ]
  },
  {
   "cell_type": "code",
   "execution_count": 35,
   "metadata": {
    "id": "gZbWSz65GDN0"
   },
   "outputs": [
    {
     "name": "stdout",
     "output_type": "stream",
     "text": [
      "{1: 'noun', 2: 'verb', 3: '.', 4: 'adp', 5: 'det', 6: 'adj', 7: 'adv', 8: 'pron', 9: 'conj', 10: 'prt', 11: 'num', 12: 'x'}\n"
     ]
    }
   ],
   "source": [
    "print(key_tag_map)"
   ]
  },
  {
   "cell_type": "code",
   "execution_count": 36,
   "metadata": {
    "id": "hxDEzI0PGkCK"
   },
   "outputs": [
    {
     "name": "stdout",
     "output_type": "stream",
     "text": [
      "[['Das', 'is', 'happy']]\n",
      "1/1 [==============================] - 0s 25ms/step\n",
      "1/1 [==============================] - 0s 19ms/step\n",
      "[['X', 'VERB', 'ADJ']]\n"
     ]
    }
   ],
   "source": [
    "t = [['Nikhil','is','happy']]\n",
    "print(unknown_word_handle(t))\n",
    "t = unknown_word_handle(t)\n",
    "predicted_tag = predict(t,final_model,tag_tokenizer,word_tokenizer)\n",
    "print(predicted_tag)"
   ]
  },
  {
   "cell_type": "code",
   "execution_count": 37,
   "metadata": {
    "id": "4tVI1rZ4Iwg5"
   },
   "outputs": [
    {
     "data": {
      "text/plain": [
       "[[24733, 10, 1102]]"
      ]
     },
     "execution_count": 37,
     "metadata": {},
     "output_type": "execute_result"
    }
   ],
   "source": [
    "word_tokenizer.texts_to_sequences(t)\n",
    "# print(t)"
   ]
  },
  {
   "cell_type": "code",
   "execution_count": 38,
   "metadata": {
    "id": "WfZkEyPlJgGI"
   },
   "outputs": [
    {
     "name": "stdout",
     "output_type": "stream",
     "text": [
      "[['The', 'Fulton', 'County', 'Grand', 'Jury', 'said', 'Friday', 'an', 'investigation', 'of', \"Atlanta's\", 'recent', 'primary', 'election', 'produced', '``', 'no', 'evidence', \"''\", 'that', 'any', 'irregularities', 'took', 'place', '.'], ['The', 'jury', 'further', 'said', 'in', 'term-end', 'presentments', 'that', 'the', 'City', 'Executive', 'Committee', ',', 'which', 'had', 'over-all', 'charge', 'of', 'the', 'election', ',', '``', 'deserves', 'the', 'praise', 'and', 'thanks', 'of', 'the', 'City', 'of', 'Atlanta', \"''\", 'for', 'the', 'manner', 'in', 'which', 'the', 'election', 'was', 'conducted', '.'], ['The', 'September-October', 'term', 'jury', 'had', 'been', 'charged', 'by', 'Fulton', 'Superior', 'Court', 'Judge', 'Durwood', 'Pye', 'to', 'investigate', 'reports', 'of', 'possible', '``', 'irregularities', \"''\", 'in', 'the', 'hard-fought', 'primary', 'which', 'was', 'won', 'by', 'Mayor-nominate', 'Ivan', 'Allen', 'Jr.', '.'], ['``', 'Only', 'a', 'relative', 'handful', 'of', 'such', 'reports', 'was', 'received', \"''\", ',', 'the', 'jury', 'said', ',', '``', 'considering', 'the', 'widespread', 'interest', 'in', 'the', 'election', ',', 'the', 'number', 'of', 'voters', 'and', 'the', 'size', 'of', 'this', 'city', \"''\", '.'], ['The', 'jury', 'said', 'it', 'did', 'find', 'that', 'many', 'of', \"Georgia's\", 'registration', 'and', 'election', 'laws', '``', 'are', 'outmoded', 'or', 'inadequate', 'and', 'often', 'ambiguous', \"''\", '.']]\n",
      "['DET', 'NOUN', 'NOUN', 'ADJ', 'NOUN', 'VERB', 'NOUN', 'DET', 'NOUN', 'ADP', 'NOUN', 'ADJ', 'NOUN', 'NOUN', 'VERB', '.', 'DET', 'NOUN', '.', 'ADP', 'DET', 'NOUN', 'VERB', 'NOUN', '.']\n"
     ]
    }
   ],
   "source": [
    "print(X_sentence[0:5])\n",
    "# print(np.array(X_sentence).flatten())\n",
    "print(Y_sentence[0])"
   ]
  },
  {
   "cell_type": "code",
   "execution_count": 39,
   "metadata": {},
   "outputs": [
    {
     "name": "stdout",
     "output_type": "stream",
     "text": [
      "de\n",
      "342\n",
      "de\n",
      "3328\n",
      "de\n",
      "3640\n",
      "de\n",
      "3641\n",
      "de\n",
      "3654\n",
      "de\n",
      "4240\n",
      "de\n",
      "6557\n",
      "de\n",
      "8698\n",
      "de\n",
      "8699\n",
      "de\n",
      "8965\n",
      "de\n",
      "8966\n",
      "de\n",
      "8966\n",
      "de\n",
      "13604\n",
      "de\n",
      "13610\n",
      "de\n",
      "15210\n",
      "de\n",
      "17217\n",
      "de\n",
      "17460\n",
      "de\n",
      "17512\n",
      "de\n",
      "19817\n",
      "de\n",
      "19875\n",
      "de\n",
      "23135\n",
      "de\n",
      "24737\n",
      "de\n",
      "25939\n",
      "de\n",
      "26095\n",
      "de\n",
      "26095\n",
      "de\n",
      "26211\n",
      "de\n",
      "26261\n",
      "de\n",
      "32874\n",
      "de\n",
      "32898\n",
      "de\n",
      "32898\n",
      "de\n",
      "32948\n",
      "de\n",
      "32948\n",
      "de\n",
      "32949\n",
      "de\n",
      "32949\n",
      "de\n",
      "33914\n",
      "de\n",
      "33937\n",
      "de\n",
      "40492\n",
      "de\n",
      "42055\n",
      "de\n",
      "42072\n",
      "de\n",
      "42076\n",
      "de\n",
      "42090\n",
      "de\n",
      "42094\n",
      "de\n",
      "42099\n",
      "de\n",
      "47011\n",
      "de\n",
      "54707\n",
      "de\n",
      "57171\n",
      "de\n",
      "57228\n",
      "de\n",
      "57331\n"
     ]
    }
   ],
   "source": [
    "temp=[]\n",
    "c=0\n",
    "for x,y in zip(X_sentence,Y_sentence):\n",
    "    for wo,ta in zip(x,y):\n",
    "        if wo=='de':\n",
    "          print(wo)\n",
    "          print(c)\n",
    "    c+=1"
   ]
  },
  {
   "cell_type": "code",
   "execution_count": 40,
   "metadata": {},
   "outputs": [
    {
     "name": "stdout",
     "output_type": "stream",
     "text": [
      "Model: \"sequential\"\n",
      "_________________________________________________________________\n",
      " Layer (type)                Output Shape              Param #   \n",
      "=================================================================\n",
      " embedding (Embedding)       (None, 180, 300)          14944800  \n",
      "                                                                 \n",
      " dense (Dense)               (None, 180, 128)          38528     \n",
      "                                                                 \n",
      " dense_1 (Dense)             (None, 180, 64)           8256      \n",
      "                                                                 \n",
      " dense_2 (Dense)             (None, 180, 13)           845       \n",
      "                                                                 \n",
      "=================================================================\n",
      "Total params: 14,992,429\n",
      "Trainable params: 14,992,429\n",
      "Non-trainable params: 0\n",
      "_________________________________________________________________\n"
     ]
    }
   ],
   "source": [
    "# import statistics\n",
    "# res = statistics.mode(temp)\n",
    "      \n",
    "# # printing result\n",
    "# print (\"Most frequent number is : \" + str(res))\n",
    "final_model.summary()"
   ]
  }
 ],
 "metadata": {
  "colab": {
   "collapsed_sections": [],
   "provenance": []
  },
  "kernelspec": {
   "display_name": "Python 3.10.4 64-bit",
   "language": "python",
   "name": "python3"
  },
  "language_info": {
   "codemirror_mode": {
    "name": "ipython",
    "version": 3
   },
   "file_extension": ".py",
   "mimetype": "text/x-python",
   "name": "python",
   "nbconvert_exporter": "python",
   "pygments_lexer": "ipython3",
   "version": "3.10.4"
  },
  "vscode": {
   "interpreter": {
    "hash": "c9b58781d1fa8134ac2ec6cc898ef119ce6179b951012c321b666aa023aba281"
   }
  }
 },
 "nbformat": 4,
 "nbformat_minor": 1
}
